{
  "nbformat": 4,
  "nbformat_minor": 0,
  "metadata": {
    "colab": {
      "provenance": []
    },
    "kernelspec": {
      "name": "python3",
      "display_name": "Python 3"
    },
    "language_info": {
      "name": "python"
    }
  },
  "cells": [
    {
      "cell_type": "code",
      "execution_count": 6,
      "metadata": {
        "id": "7cPz1-EU_mZU"
      },
      "outputs": [],
      "source": [
        "import numpy as np\n",
        "import matplotlib.pyplot as plt\n",
        "import scipy\n",
        "import sympy as sp"
      ]
    },
    {
      "cell_type": "code",
      "source": [
        "import pandas as pd\n",
        "\n",
        "file='/content/Skyserver_SQL11_1_2023 4_20_18 PM.csv'\n",
        "\n",
        "cat = pd.read_csv(file,delimiter=',',header=1)\n",
        "\n",
        "row_ind = [8,111,72,80,25]\n",
        "cat_sel = cat.iloc[row_ind]\n",
        "\n",
        "js2=cat_sel['SII_6717_flux']/cat_sel['SII_6731_flux']\n",
        "jo2=cat_sel['OII_3729_flux']/cat_sel['OII_3726_flux']\n",
        "jo3=(cat_sel['OIII_5007_flux']+cat_sel['OIII_4959_flux'])/cat_sel['OIII_4363_flux']\n",
        "\n",
        "js2=np.array(js2)\n",
        "jo3=np.array(jo2)"
      ],
      "metadata": {
        "id": "kkDYRmyU0vgV"
      },
      "execution_count": 49,
      "outputs": []
    },
    {
      "cell_type": "code",
      "source": [
        "jo3"
      ],
      "metadata": {
        "colab": {
          "base_uri": "https://localhost:8080/"
        },
        "id": "6R4iYaf_5bUK",
        "outputId": "e4273dce-452d-4ea1-893f-e3a0e09f75c4"
      },
      "execution_count": 50,
      "outputs": [
        {
          "output_type": "execute_result",
          "data": {
            "text/plain": [
              "array([0.62815423, 0.96015824, 0.60791684, 1.36192986, 1.16688619])"
            ]
          },
          "metadata": {},
          "execution_count": 50
        }
      ]
    },
    {
      "cell_type": "code",
      "source": [
        "cat_sel"
      ],
      "metadata": {
        "colab": {
          "base_uri": "https://localhost:8080/",
          "height": 255
        },
        "id": "9qDDJs-21Iuu",
        "outputId": "d9706e2a-9f80-4832-ff11-bd5997e7e36e"
      },
      "execution_count": 3,
      "outputs": [
        {
          "output_type": "execute_result",
          "data": {
            "text/plain": [
              "     plate  fiberid    mjd         z  zwarning   class            specObjID  \\\n",
              "8      744      184  52251  0.039813         0  GALAXY   837720145991329792   \n",
              "111   2274      364  53726  0.091606         0  GALAXY  2560396506230188032   \n",
              "72    1875      323  54453  0.038607         0  GALAXY  2111151185602832384   \n",
              "80    2795      589  54563  0.256993         0  GALAXY  3147052219266787328   \n",
              "25     939      225  52636  0.027827         0  GALAXY  1057281904279054336   \n",
              "\n",
              "     h_beta_flux  h_beta_flux_err  h_alpha_flux  ...  NII_6584_flux  \\\n",
              "8       45.00267         4.923592      451.9799  ...      338.92880   \n",
              "111     44.51060         2.325790      479.9265  ...      317.53760   \n",
              "72      20.80641         4.085865      209.9367  ...      113.72500   \n",
              "80      11.15065         1.703433      120.4203  ...       59.37738   \n",
              "25      57.87104         2.881205      618.1323  ...      626.03000   \n",
              "\n",
              "     NII_6584_flux_err  SII_6717_flux  SII_6717_flux_err  SII_6731_flux  \\\n",
              "8             8.508451      143.42070           7.395702      105.78010   \n",
              "111           3.312216       89.50102           2.775858       74.13079   \n",
              "72            3.949086       56.20755           3.596226       41.56231   \n",
              "80            3.275947       25.92093           2.460145       26.61004   \n",
              "25            6.251127      121.98640           4.250310      115.17290   \n",
              "\n",
              "     SII_6731_flux_err  OII_3726_flux  OII_3726_flux_err  OII_3729_flux  \\\n",
              "8             7.220693       73.89171          13.548730       46.41539   \n",
              "111           2.606775       36.12391           4.447652       34.68467   \n",
              "72            3.307410       40.67757          13.023540       24.72858   \n",
              "80            3.066978       10.82649           2.381013       14.74492   \n",
              "25            4.192435       66.09684           8.244592       77.12749   \n",
              "\n",
              "     OII_3729_flux_err  \n",
              "8            13.429430  \n",
              "111           4.438820  \n",
              "72           13.261360  \n",
              "80            2.400014  \n",
              "25            8.031549  \n",
              "\n",
              "[5 rows x 29 columns]"
            ],
            "text/html": [
              "\n",
              "  <div id=\"df-8207286c-5ed9-48b7-93f7-348f9aeb2a18\" class=\"colab-df-container\">\n",
              "    <div>\n",
              "<style scoped>\n",
              "    .dataframe tbody tr th:only-of-type {\n",
              "        vertical-align: middle;\n",
              "    }\n",
              "\n",
              "    .dataframe tbody tr th {\n",
              "        vertical-align: top;\n",
              "    }\n",
              "\n",
              "    .dataframe thead th {\n",
              "        text-align: right;\n",
              "    }\n",
              "</style>\n",
              "<table border=\"1\" class=\"dataframe\">\n",
              "  <thead>\n",
              "    <tr style=\"text-align: right;\">\n",
              "      <th></th>\n",
              "      <th>plate</th>\n",
              "      <th>fiberid</th>\n",
              "      <th>mjd</th>\n",
              "      <th>z</th>\n",
              "      <th>zwarning</th>\n",
              "      <th>class</th>\n",
              "      <th>specObjID</th>\n",
              "      <th>h_beta_flux</th>\n",
              "      <th>h_beta_flux_err</th>\n",
              "      <th>h_alpha_flux</th>\n",
              "      <th>...</th>\n",
              "      <th>NII_6584_flux</th>\n",
              "      <th>NII_6584_flux_err</th>\n",
              "      <th>SII_6717_flux</th>\n",
              "      <th>SII_6717_flux_err</th>\n",
              "      <th>SII_6731_flux</th>\n",
              "      <th>SII_6731_flux_err</th>\n",
              "      <th>OII_3726_flux</th>\n",
              "      <th>OII_3726_flux_err</th>\n",
              "      <th>OII_3729_flux</th>\n",
              "      <th>OII_3729_flux_err</th>\n",
              "    </tr>\n",
              "  </thead>\n",
              "  <tbody>\n",
              "    <tr>\n",
              "      <th>8</th>\n",
              "      <td>744</td>\n",
              "      <td>184</td>\n",
              "      <td>52251</td>\n",
              "      <td>0.039813</td>\n",
              "      <td>0</td>\n",
              "      <td>GALAXY</td>\n",
              "      <td>837720145991329792</td>\n",
              "      <td>45.00267</td>\n",
              "      <td>4.923592</td>\n",
              "      <td>451.9799</td>\n",
              "      <td>...</td>\n",
              "      <td>338.92880</td>\n",
              "      <td>8.508451</td>\n",
              "      <td>143.42070</td>\n",
              "      <td>7.395702</td>\n",
              "      <td>105.78010</td>\n",
              "      <td>7.220693</td>\n",
              "      <td>73.89171</td>\n",
              "      <td>13.548730</td>\n",
              "      <td>46.41539</td>\n",
              "      <td>13.429430</td>\n",
              "    </tr>\n",
              "    <tr>\n",
              "      <th>111</th>\n",
              "      <td>2274</td>\n",
              "      <td>364</td>\n",
              "      <td>53726</td>\n",
              "      <td>0.091606</td>\n",
              "      <td>0</td>\n",
              "      <td>GALAXY</td>\n",
              "      <td>2560396506230188032</td>\n",
              "      <td>44.51060</td>\n",
              "      <td>2.325790</td>\n",
              "      <td>479.9265</td>\n",
              "      <td>...</td>\n",
              "      <td>317.53760</td>\n",
              "      <td>3.312216</td>\n",
              "      <td>89.50102</td>\n",
              "      <td>2.775858</td>\n",
              "      <td>74.13079</td>\n",
              "      <td>2.606775</td>\n",
              "      <td>36.12391</td>\n",
              "      <td>4.447652</td>\n",
              "      <td>34.68467</td>\n",
              "      <td>4.438820</td>\n",
              "    </tr>\n",
              "    <tr>\n",
              "      <th>72</th>\n",
              "      <td>1875</td>\n",
              "      <td>323</td>\n",
              "      <td>54453</td>\n",
              "      <td>0.038607</td>\n",
              "      <td>0</td>\n",
              "      <td>GALAXY</td>\n",
              "      <td>2111151185602832384</td>\n",
              "      <td>20.80641</td>\n",
              "      <td>4.085865</td>\n",
              "      <td>209.9367</td>\n",
              "      <td>...</td>\n",
              "      <td>113.72500</td>\n",
              "      <td>3.949086</td>\n",
              "      <td>56.20755</td>\n",
              "      <td>3.596226</td>\n",
              "      <td>41.56231</td>\n",
              "      <td>3.307410</td>\n",
              "      <td>40.67757</td>\n",
              "      <td>13.023540</td>\n",
              "      <td>24.72858</td>\n",
              "      <td>13.261360</td>\n",
              "    </tr>\n",
              "    <tr>\n",
              "      <th>80</th>\n",
              "      <td>2795</td>\n",
              "      <td>589</td>\n",
              "      <td>54563</td>\n",
              "      <td>0.256993</td>\n",
              "      <td>0</td>\n",
              "      <td>GALAXY</td>\n",
              "      <td>3147052219266787328</td>\n",
              "      <td>11.15065</td>\n",
              "      <td>1.703433</td>\n",
              "      <td>120.4203</td>\n",
              "      <td>...</td>\n",
              "      <td>59.37738</td>\n",
              "      <td>3.275947</td>\n",
              "      <td>25.92093</td>\n",
              "      <td>2.460145</td>\n",
              "      <td>26.61004</td>\n",
              "      <td>3.066978</td>\n",
              "      <td>10.82649</td>\n",
              "      <td>2.381013</td>\n",
              "      <td>14.74492</td>\n",
              "      <td>2.400014</td>\n",
              "    </tr>\n",
              "    <tr>\n",
              "      <th>25</th>\n",
              "      <td>939</td>\n",
              "      <td>225</td>\n",
              "      <td>52636</td>\n",
              "      <td>0.027827</td>\n",
              "      <td>0</td>\n",
              "      <td>GALAXY</td>\n",
              "      <td>1057281904279054336</td>\n",
              "      <td>57.87104</td>\n",
              "      <td>2.881205</td>\n",
              "      <td>618.1323</td>\n",
              "      <td>...</td>\n",
              "      <td>626.03000</td>\n",
              "      <td>6.251127</td>\n",
              "      <td>121.98640</td>\n",
              "      <td>4.250310</td>\n",
              "      <td>115.17290</td>\n",
              "      <td>4.192435</td>\n",
              "      <td>66.09684</td>\n",
              "      <td>8.244592</td>\n",
              "      <td>77.12749</td>\n",
              "      <td>8.031549</td>\n",
              "    </tr>\n",
              "  </tbody>\n",
              "</table>\n",
              "<p>5 rows × 29 columns</p>\n",
              "</div>\n",
              "    <div class=\"colab-df-buttons\">\n",
              "\n",
              "  <div class=\"colab-df-container\">\n",
              "    <button class=\"colab-df-convert\" onclick=\"convertToInteractive('df-8207286c-5ed9-48b7-93f7-348f9aeb2a18')\"\n",
              "            title=\"Convert this dataframe to an interactive table.\"\n",
              "            style=\"display:none;\">\n",
              "\n",
              "  <svg xmlns=\"http://www.w3.org/2000/svg\" height=\"24px\" viewBox=\"0 -960 960 960\">\n",
              "    <path d=\"M120-120v-720h720v720H120Zm60-500h600v-160H180v160Zm220 220h160v-160H400v160Zm0 220h160v-160H400v160ZM180-400h160v-160H180v160Zm440 0h160v-160H620v160ZM180-180h160v-160H180v160Zm440 0h160v-160H620v160Z\"/>\n",
              "  </svg>\n",
              "    </button>\n",
              "\n",
              "  <style>\n",
              "    .colab-df-container {\n",
              "      display:flex;\n",
              "      gap: 12px;\n",
              "    }\n",
              "\n",
              "    .colab-df-convert {\n",
              "      background-color: #E8F0FE;\n",
              "      border: none;\n",
              "      border-radius: 50%;\n",
              "      cursor: pointer;\n",
              "      display: none;\n",
              "      fill: #1967D2;\n",
              "      height: 32px;\n",
              "      padding: 0 0 0 0;\n",
              "      width: 32px;\n",
              "    }\n",
              "\n",
              "    .colab-df-convert:hover {\n",
              "      background-color: #E2EBFA;\n",
              "      box-shadow: 0px 1px 2px rgba(60, 64, 67, 0.3), 0px 1px 3px 1px rgba(60, 64, 67, 0.15);\n",
              "      fill: #174EA6;\n",
              "    }\n",
              "\n",
              "    .colab-df-buttons div {\n",
              "      margin-bottom: 4px;\n",
              "    }\n",
              "\n",
              "    [theme=dark] .colab-df-convert {\n",
              "      background-color: #3B4455;\n",
              "      fill: #D2E3FC;\n",
              "    }\n",
              "\n",
              "    [theme=dark] .colab-df-convert:hover {\n",
              "      background-color: #434B5C;\n",
              "      box-shadow: 0px 1px 3px 1px rgba(0, 0, 0, 0.15);\n",
              "      filter: drop-shadow(0px 1px 2px rgba(0, 0, 0, 0.3));\n",
              "      fill: #FFFFFF;\n",
              "    }\n",
              "  </style>\n",
              "\n",
              "    <script>\n",
              "      const buttonEl =\n",
              "        document.querySelector('#df-8207286c-5ed9-48b7-93f7-348f9aeb2a18 button.colab-df-convert');\n",
              "      buttonEl.style.display =\n",
              "        google.colab.kernel.accessAllowed ? 'block' : 'none';\n",
              "\n",
              "      async function convertToInteractive(key) {\n",
              "        const element = document.querySelector('#df-8207286c-5ed9-48b7-93f7-348f9aeb2a18');\n",
              "        const dataTable =\n",
              "          await google.colab.kernel.invokeFunction('convertToInteractive',\n",
              "                                                    [key], {});\n",
              "        if (!dataTable) return;\n",
              "\n",
              "        const docLinkHtml = 'Like what you see? Visit the ' +\n",
              "          '<a target=\"_blank\" href=https://colab.research.google.com/notebooks/data_table.ipynb>data table notebook</a>'\n",
              "          + ' to learn more about interactive tables.';\n",
              "        element.innerHTML = '';\n",
              "        dataTable['output_type'] = 'display_data';\n",
              "        await google.colab.output.renderOutput(dataTable, element);\n",
              "        const docLink = document.createElement('div');\n",
              "        docLink.innerHTML = docLinkHtml;\n",
              "        element.appendChild(docLink);\n",
              "      }\n",
              "    </script>\n",
              "  </div>\n",
              "\n",
              "\n",
              "<div id=\"df-c4205ba4-639f-4937-8a61-9e48ecacd11a\">\n",
              "  <button class=\"colab-df-quickchart\" onclick=\"quickchart('df-c4205ba4-639f-4937-8a61-9e48ecacd11a')\"\n",
              "            title=\"Suggest charts.\"\n",
              "            style=\"display:none;\">\n",
              "\n",
              "<svg xmlns=\"http://www.w3.org/2000/svg\" height=\"24px\"viewBox=\"0 0 24 24\"\n",
              "     width=\"24px\">\n",
              "    <g>\n",
              "        <path d=\"M19 3H5c-1.1 0-2 .9-2 2v14c0 1.1.9 2 2 2h14c1.1 0 2-.9 2-2V5c0-1.1-.9-2-2-2zM9 17H7v-7h2v7zm4 0h-2V7h2v10zm4 0h-2v-4h2v4z\"/>\n",
              "    </g>\n",
              "</svg>\n",
              "  </button>\n",
              "\n",
              "<style>\n",
              "  .colab-df-quickchart {\n",
              "      --bg-color: #E8F0FE;\n",
              "      --fill-color: #1967D2;\n",
              "      --hover-bg-color: #E2EBFA;\n",
              "      --hover-fill-color: #174EA6;\n",
              "      --disabled-fill-color: #AAA;\n",
              "      --disabled-bg-color: #DDD;\n",
              "  }\n",
              "\n",
              "  [theme=dark] .colab-df-quickchart {\n",
              "      --bg-color: #3B4455;\n",
              "      --fill-color: #D2E3FC;\n",
              "      --hover-bg-color: #434B5C;\n",
              "      --hover-fill-color: #FFFFFF;\n",
              "      --disabled-bg-color: #3B4455;\n",
              "      --disabled-fill-color: #666;\n",
              "  }\n",
              "\n",
              "  .colab-df-quickchart {\n",
              "    background-color: var(--bg-color);\n",
              "    border: none;\n",
              "    border-radius: 50%;\n",
              "    cursor: pointer;\n",
              "    display: none;\n",
              "    fill: var(--fill-color);\n",
              "    height: 32px;\n",
              "    padding: 0;\n",
              "    width: 32px;\n",
              "  }\n",
              "\n",
              "  .colab-df-quickchart:hover {\n",
              "    background-color: var(--hover-bg-color);\n",
              "    box-shadow: 0 1px 2px rgba(60, 64, 67, 0.3), 0 1px 3px 1px rgba(60, 64, 67, 0.15);\n",
              "    fill: var(--button-hover-fill-color);\n",
              "  }\n",
              "\n",
              "  .colab-df-quickchart-complete:disabled,\n",
              "  .colab-df-quickchart-complete:disabled:hover {\n",
              "    background-color: var(--disabled-bg-color);\n",
              "    fill: var(--disabled-fill-color);\n",
              "    box-shadow: none;\n",
              "  }\n",
              "\n",
              "  .colab-df-spinner {\n",
              "    border: 2px solid var(--fill-color);\n",
              "    border-color: transparent;\n",
              "    border-bottom-color: var(--fill-color);\n",
              "    animation:\n",
              "      spin 1s steps(1) infinite;\n",
              "  }\n",
              "\n",
              "  @keyframes spin {\n",
              "    0% {\n",
              "      border-color: transparent;\n",
              "      border-bottom-color: var(--fill-color);\n",
              "      border-left-color: var(--fill-color);\n",
              "    }\n",
              "    20% {\n",
              "      border-color: transparent;\n",
              "      border-left-color: var(--fill-color);\n",
              "      border-top-color: var(--fill-color);\n",
              "    }\n",
              "    30% {\n",
              "      border-color: transparent;\n",
              "      border-left-color: var(--fill-color);\n",
              "      border-top-color: var(--fill-color);\n",
              "      border-right-color: var(--fill-color);\n",
              "    }\n",
              "    40% {\n",
              "      border-color: transparent;\n",
              "      border-right-color: var(--fill-color);\n",
              "      border-top-color: var(--fill-color);\n",
              "    }\n",
              "    60% {\n",
              "      border-color: transparent;\n",
              "      border-right-color: var(--fill-color);\n",
              "    }\n",
              "    80% {\n",
              "      border-color: transparent;\n",
              "      border-right-color: var(--fill-color);\n",
              "      border-bottom-color: var(--fill-color);\n",
              "    }\n",
              "    90% {\n",
              "      border-color: transparent;\n",
              "      border-bottom-color: var(--fill-color);\n",
              "    }\n",
              "  }\n",
              "</style>\n",
              "\n",
              "  <script>\n",
              "    async function quickchart(key) {\n",
              "      const quickchartButtonEl =\n",
              "        document.querySelector('#' + key + ' button');\n",
              "      quickchartButtonEl.disabled = true;  // To prevent multiple clicks.\n",
              "      quickchartButtonEl.classList.add('colab-df-spinner');\n",
              "      try {\n",
              "        const charts = await google.colab.kernel.invokeFunction(\n",
              "            'suggestCharts', [key], {});\n",
              "      } catch (error) {\n",
              "        console.error('Error during call to suggestCharts:', error);\n",
              "      }\n",
              "      quickchartButtonEl.classList.remove('colab-df-spinner');\n",
              "      quickchartButtonEl.classList.add('colab-df-quickchart-complete');\n",
              "    }\n",
              "    (() => {\n",
              "      let quickchartButtonEl =\n",
              "        document.querySelector('#df-c4205ba4-639f-4937-8a61-9e48ecacd11a button');\n",
              "      quickchartButtonEl.style.display =\n",
              "        google.colab.kernel.accessAllowed ? 'block' : 'none';\n",
              "    })();\n",
              "  </script>\n",
              "</div>\n",
              "    </div>\n",
              "  </div>\n"
            ]
          },
          "metadata": {},
          "execution_count": 3
        }
      ]
    },
    {
      "cell_type": "code",
      "source": [
        "#SII\n",
        "a6716=2.6e-4\n",
        "a6731=8.8e-4\n",
        "\n",
        "d32_d52=7.47\n",
        "s32_d52=4.14\n",
        "s32_d32=2.76\n",
        "d52_d32=7.47\n",
        "\n",
        "g52=6\n",
        "g32=4\n",
        "\n",
        "T=10000\n",
        "C=8.62e-6/np.sqrt(T)"
      ],
      "metadata": {
        "id": "Ylsp-0Fw_tcl"
      },
      "execution_count": 4,
      "outputs": []
    },
    {
      "cell_type": "code",
      "source": [
        "#OIII\n",
        "\n",
        "c=299792458 #m/s\n",
        "h=6.626070e-34 #J/S\n",
        "k=1.380649e-23 #J/K\n",
        "\n",
        "adp1_o3=2e-2\n",
        "adp2_o3=6.8e-3\n",
        "asd_o3=1.6\n",
        "asp_o3=2.3e-1\n",
        "\n",
        "omg_ds_o3=0.58\n",
        "omg_ps_o3=0.29\n",
        "omg_pd_o3=2.29\n",
        "\n",
        "gamma_o3=(omg_ds_o3+omg_ps_o3)/omg_ps_o3\n",
        "\n",
        "gs=1\n",
        "gd=5\n",
        "\n",
        "lsd_4363=4363.2e-10\n",
        "e_sd_o3=(h*c)/lsd_4363\n",
        "nu_sd_o3=(c)/lsd_4363\n",
        "\n",
        "\n",
        "ldp1_5007=5006.9e-10\n",
        "e_dp1_o3=c/ldp1_5007\n",
        "\n",
        "ldp2_4959=4958.9e-10\n",
        "e_dp2_o3=c/ldp2_4959"
      ],
      "metadata": {
        "id": "vYRyx3cD5mzj"
      },
      "execution_count": 21,
      "outputs": []
    },
    {
      "cell_type": "code",
      "source": [
        "from sympy.core import S\n",
        "#Ne para SII\n",
        "x1 = sp.symbols('x')\n",
        "ecuacion1 = (((a6716*g52)*(1+(d32_d52/s32_d52)+(d32_d52/s32_d32)+((a6731*g32)/(C*x*s32_d32))))/((a6731*g32)*(1+(d52_d32/s32_d32)+(d52_d32/s32_d52)+((a6716*g52)/(C*x*s32_d52)))))-js2[0]\n",
        "ne1 = sp.solve(ecuacion1, x1)\n",
        "ne1 = np.array(ne1)"
      ],
      "metadata": {
        "id": "ZxlXWYWD3L6S"
      },
      "execution_count": 55,
      "outputs": []
    },
    {
      "cell_type": "code",
      "source": [
        "#T con ese ne_1 para OIII\n",
        "x2 = sp.symbols('x2')\n",
        "ecuacion2 = ((((adp1_o3*e_dp1_o3)+(adp2_o3*e_dp2_o3))*(1+((asd_o3+asp_o3)*gs/(gamma_o3*(8.62e-6/sp.sqrt(x2))*ne1[0]*omg_ps_o3))+(omg_ds_o3*(sp.exp(-(e_sd_o3/(k*x2))))/(gamma_o3*omg_pd_o3))+(asd_o3*gs*(sp.exp(-(e_sd_o3/(k*x2))))/(gamma_o3*(8.62e-6/sp.sqrt(x2))*ne1[0]*omg_pd_o3))))/((asd_o3*nu_sd_o3*gs*(sp.exp(-(e_sd_o3/(k*x2))))/gd)*(1+(omg_ds_o3*(sp.exp(-(e_sd_o3/(k*x2))))/(gamma_o3*omg_pd_o3))+((adp1_o3+adp2_o3)*gd/(gamma_o3*(8.62e-6/sp.sqrt(x2))*ne1[0]*omg_pd_o3)))))-jo3[0]\n",
        "T2 = sp.solve(ecuacion2, x2)"
      ],
      "metadata": {
        "id": "KEA-QtEPytnR"
      },
      "execution_count": null,
      "outputs": []
    },
    {
      "cell_type": "markdown",
      "source": [],
      "metadata": {
        "id": "yIRBXq9p2flj"
      }
    },
    {
      "cell_type": "code",
      "source": [
        "solucion"
      ],
      "metadata": {
        "colab": {
          "base_uri": "https://localhost:8080/"
        },
        "id": "GwOQaEqJy6g4",
        "outputId": "45c1d543-adc3-405a-84d0-0a8e26705d97"
      },
      "execution_count": 10,
      "outputs": [
        {
          "output_type": "execute_result",
          "data": {
            "text/plain": [
              "[39.6223083304658]"
            ]
          },
          "metadata": {},
          "execution_count": 10
        }
      ]
    },
    {
      "cell_type": "code",
      "source": [
        "n_1=(((a6716*g52*a6731*g32)/(C*s32_d32))-((a6716*g52*a6731*g32)/(C*s32_d52)))\n",
        "d_1=(js2[0])*(1+(d52_d32/s32_d32)+(d52_d32/s32_d52))*((a6731*g32)-(a6716*g52))\n",
        "\n",
        "ne_1=n_1/d_1"
      ],
      "metadata": {
        "id": "1T9QJmvX0M35"
      },
      "execution_count": 12,
      "outputs": []
    },
    {
      "cell_type": "code",
      "source": [
        "ne_1"
      ],
      "metadata": {
        "colab": {
          "base_uri": "https://localhost:8080/"
        },
        "id": "AvrZqJyO0TqN",
        "outputId": "14b47479-c533-43ba-ee18-124714a2b2bf"
      },
      "execution_count": 13,
      "outputs": [
        {
          "output_type": "execute_result",
          "data": {
            "text/plain": [
              "166.1290537050042"
            ]
          },
          "metadata": {},
          "execution_count": 13
        }
      ]
    },
    {
      "cell_type": "code",
      "source": [
        "def valores(js2,jo2):\n",
        "\n",
        "  n_1=(((a6716*g52*a6731*g32)/(C*s32_d32))-((a6716*g52*a6731*g32)/(C*s32_d52)))\n",
        "  d_1=(js2)*(1+(d52_d32/s32_d32)+(d52_d32/s32_d52))*((a6731*g32)-(a6716*g52))\n",
        "\n",
        "  ne_1=n_1/d_1\n",
        "\n",
        "  n_2=8.62e-6*(jo2)*(1+(o_d52_d32/o_s32_d32)+(o_d52_d32/o_s32_d52))*((a3726*g32)-(a3729*g52))\n",
        "  d_2=(((a3729*g52*a3726*g32)/(ne_1*o_s32_d32))-((a3726*g52*a3729*g32)/(ne_1*o_s32_d52)))\n",
        "\n",
        "  T_2=np.power((n_2/d_2),2)\n",
        "\n",
        "  print('Ne 1:',ne_1)\n",
        "  print('T 1:',T_2)\n",
        "\n",
        "  C_3=8.62e-6/np.sqrt(T_2)\n",
        "  n_3=(((a6716*g52*a6731*g32)/(C_3*s32_d32))-((a6716*g52*a6731*g32)/(C_3*s32_d52)))\n",
        "  d_3=(js2)*(1+(d52_d32/s32_d32)+(d52_d32/s32_d52))*((a6731*g32)-(a6716*g52))\n",
        "\n",
        "  ne_3=n_3/d_3\n",
        "\n",
        "  n_4=8.62e-6*(jo2)*(1+(o_d52_d32/o_s32_d32)+(o_d52_d32/o_s32_d52))*((a3726*g32)-(a3729*g52))\n",
        "  d_4=(((a3729*g52*a3726*g32)/(ne_3*o_s32_d32))-((a3726*g52*a3729*g32)/(ne_3*o_s32_d52)))\n",
        "\n",
        "  T_4=np.power((n_4/d_4),2)\n",
        "\n",
        "  print('Ne 2:',ne_3)\n",
        "  print('T 2:',T_4)\n",
        "\n",
        "  C_5=8.62e-6/np.sqrt(T_4)\n",
        "  n_5=(((a6716*g52*a6731*g32)/(C_5*s32_d32))-((a6716*g52*a6731*g32)/(C_5*s32_d52)))\n",
        "  d_5=(js2)*(1+(d52_d32/s32_d32)+(d52_d32/s32_d52))*((a6731*g32)-(a6716*g52))\n",
        "\n",
        "  ne_5=n_5/d_5\n",
        "\n",
        "  n_6=8.62e-6*(jo2)*(1+(o_d52_d32/o_s32_d32)+(o_d52_d32/o_s32_d52))*((a3726*g32)-(a3729*g52))\n",
        "  d_6=(((a3729*g52*a3726*g32)/(ne_5*o_s32_d32))-((a3726*g52*a3729*g32)/(ne_5*o_s32_d52)))\n",
        "\n",
        "  T_6=np.power((n_6/d_6),2)\n",
        "\n",
        "  print('Ne 3:',ne_5)\n",
        "  print('T 3:',T_6)\n",
        "\n",
        "  C_7=8.62e-6/np.sqrt(T_6)\n",
        "  n_7=(((a6716*g52*a6731*g32)/(C_7*s32_d32))-((a6716*g52*a6731*g32)/(C_7*s32_d52)))\n",
        "  d_7=(js2)*(1+(d52_d32/s32_d32)+(d52_d32/s32_d52))*((a6731*g32)-(a6716*g52))\n",
        "\n",
        "  ne_7=n_7/d_7\n",
        "\n",
        "  n_8=8.62e-6*(jo2)*(1+(o_d52_d32/o_s32_d32)+(o_d52_d32/o_s32_d52))*((a3726*g32)-(a3729*g52))\n",
        "  d_8=(((a3729*g52*a3726*g32)/(ne_7*o_s32_d32))-((a3726*g52*a3729*g32)/(ne_7*o_s32_d52)))\n",
        "\n",
        "  T_8=np.power((n_8/d_8),2)\n",
        "\n",
        "  print('Ne 4:',ne_7)\n",
        "  print('T 4:',T_8)"
      ],
      "metadata": {
        "id": "ppJK39pR1TcW"
      },
      "execution_count": null,
      "outputs": []
    },
    {
      "cell_type": "code",
      "source": [
        "valores(js2[0],jo2[0])"
      ],
      "metadata": {
        "colab": {
          "base_uri": "https://localhost:8080/"
        },
        "id": "fiF3mjfD86ev",
        "outputId": "9c113553-bc58-474f-d594-07a43104ba69"
      },
      "execution_count": null,
      "outputs": [
        {
          "output_type": "stream",
          "name": "stdout",
          "text": [
            "Ne 1: 166.1290537050042\n",
            "T 1: 423.39654403482814\n",
            "Ne 2: 108.09839497146872\n",
            "T 2: 179.26463350063605\n",
            "Ne 3: 70.33846720247512\n",
            "T 3: 75.90002629183944\n",
            "Ne 4: 45.7684868466317\n",
            "T 4: 32.13580882411742\n"
          ]
        }
      ]
    },
    {
      "cell_type": "code",
      "source": [
        "valores(js2[1],jo2[1])"
      ],
      "metadata": {
        "colab": {
          "base_uri": "https://localhost:8080/"
        },
        "id": "G4nvC2HM9pp5",
        "outputId": "47b09cde-3eac-4c98-bb82-7b70de151d89"
      },
      "execution_count": null,
      "outputs": [
        {
          "output_type": "stream",
          "name": "stdout",
          "text": [
            "Ne 1: 186.56239115990337\n",
            "T 1: 1247.5483381395852\n",
            "Ne 2: 208.37844385636913\n",
            "T 2: 1556.3768559948414\n",
            "Ne 3: 232.74560105088477\n",
            "T 3: 1941.6553602152749\n",
            "Ne 4: 259.96218133712597\n",
            "T 4: 2422.3089178763803\n"
          ]
        }
      ]
    },
    {
      "cell_type": "code",
      "source": [
        "valores(js2[2],jo2[2])"
      ],
      "metadata": {
        "colab": {
          "base_uri": "https://localhost:8080/"
        },
        "id": "DNsXIe3f9tMU",
        "outputId": "69eef30b-aebc-4758-a463-70651887b588"
      },
      "execution_count": null,
      "outputs": [
        {
          "output_type": "stream",
          "name": "stdout",
          "text": [
            "Ne 1: 166.55530791833564\n",
            "T 1: 398.5922612976061\n",
            "Ne 2: 105.15330057910977\n",
            "T 2: 158.8757907663393\n",
            "Ne 3: 66.38765681428855\n",
            "T 3: 63.3266607070006\n",
            "Ne 4: 41.9132918607343\n",
            "T 4: 25.241516891629644\n"
          ]
        }
      ]
    },
    {
      "cell_type": "code",
      "source": [
        "valores(js2[3],jo2[3])"
      ],
      "metadata": {
        "colab": {
          "base_uri": "https://localhost:8080/"
        },
        "id": "N9XZNLr993iw",
        "outputId": "a8e43369-d289-4222-b4da-84bb74c07884"
      },
      "execution_count": null,
      "outputs": [
        {
          "output_type": "stream",
          "name": "stdout",
          "text": [
            "Ne 1: 231.2322494242783\n",
            "T 1: 3855.9362368428892\n",
            "Ne 2: 454.0600847103979\n",
            "T 2: 14868.244262598095\n",
            "Ne 3: 891.616809681768\n",
            "T 3: 57331.001830383444\n",
            "Ne 4: 1750.826734338776\n",
            "T 4: 221064.6874522815\n"
          ]
        }
      ]
    },
    {
      "cell_type": "code",
      "source": [
        "valores(js2[4],jo2[4])"
      ],
      "metadata": {
        "colab": {
          "base_uri": "https://localhost:8080/"
        },
        "id": "ngejLyTd96Mu",
        "outputId": "b9aab4bc-f9d2-4899-aed6-15603a98283e"
      },
      "execution_count": null,
      "outputs": [
        {
          "output_type": "stream",
          "name": "stdout",
          "text": [
            "Ne 1: 212.66319942721526\n",
            "T 1: 2394.2265457075064\n",
            "Ne 2: 329.0599021347584\n",
            "T 2: 5732.320752170503\n",
            "Ne 3: 509.16387736372826\n",
            "T 3: 13724.474513356618\n",
            "Ne 4: 787.8439528189523\n",
            "T 4: 32859.50120576453\n"
          ]
        }
      ]
    }
  ]
}